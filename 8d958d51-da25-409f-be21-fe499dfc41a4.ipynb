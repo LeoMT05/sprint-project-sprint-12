{
 "cells": [
  {
   "cell_type": "markdown",
   "metadata": {},
   "source": [
    "Rusty Bargain used car sales service is developing an app to attract new customers. In that app, you can quickly find out the market value of your car. You have access to historical data: technical specifications, trim versions, and prices. You need to build the model to determine the value. \n",
    "\n",
    "Rusty Bargain is interested in:\n",
    "\n",
    "- the quality of the prediction;\n",
    "- the speed of the prediction;\n",
    "- the time required for training"
   ]
  },
  {
   "cell_type": "markdown",
   "metadata": {},
   "source": [
    "## Data preparation"
   ]
  },
  {
   "cell_type": "code",
   "execution_count": 1,
   "metadata": {},
   "outputs": [],
   "source": [
    "import pandas as pd\n",
    "import numpy as np\n",
    "import time\n",
    "from sklearn.model_selection import train_test_split\n",
    "from sklearn.preprocessing import OneHotEncoder\n",
    "from sklearn.impute import SimpleImputer\n",
    "from sklearn.pipeline import Pipeline\n",
    "from sklearn.compose import ColumnTransformer\n",
    "from sklearn.ensemble import RandomForestRegressor\n",
    "from sklearn.linear_model import LinearRegression\n",
    "from sklearn.tree import DecisionTreeRegressor\n",
    "from lightgbm import LGBMRegressor\n",
    "from sklearn.metrics import mean_squared_error"
   ]
  },
  {
   "cell_type": "code",
   "execution_count": 2,
   "metadata": {},
   "outputs": [
    {
     "name": "stdout",
     "output_type": "stream",
     "text": [
      "Loading data...\n"
     ]
    }
   ],
   "source": [
    "print(\"Loading data...\")\n",
    "data = pd.read_csv('/datasets/car_data.csv')\n",
    "\n",
    "data = data.drop(columns=['NumberOfPictures', 'PostalCode'])\n",
    "\n",
    "categorical_features = ['VehicleType', 'Gearbox', 'Model', 'FuelType', 'Brand', 'NotRepaired']\n",
    "for col in categorical_features:\n",
    "    data[col] = data[col].fillna('unknown')\n",
    "\n",
    "data = data[(data['RegistrationYear'] >= 1900) & (data['RegistrationYear'] <= 2023)]\n",
    "\n",
    "data = data.drop_duplicates()\n",
    "\n",
    "target = data['Price']\n",
    "features = data.drop(columns=['Price'])\n",
    "\n",
    "features_full_train, features_test, target_full_train, target_test = train_test_split(\n",
    "    features, target, test_size=0.2, random_state=12345)\n",
    "\n",
    "features_train, features_valid, target_train, target_valid = train_test_split(\n",
    "    features_full_train, target_full_train, test_size=0.25, random_state=12345)\n",
    "\n",
    "ohe = OneHotEncoder(handle_unknown='ignore', sparse=False)\n",
    "ohe.fit(features_train[categorical_features])\n",
    "\n",
    "def encode(df):\n",
    "    encoded = pd.DataFrame(ohe.transform(df[categorical_features]), index=df.index)\n",
    "    encoded.columns = ohe.get_feature_names(categorical_features)\n"
   ]
  }
 ]
}

